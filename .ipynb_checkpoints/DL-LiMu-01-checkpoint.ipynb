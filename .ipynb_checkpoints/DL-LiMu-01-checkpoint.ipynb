{
 "cells": [
  {
   "cell_type": "markdown",
   "id": "suburban-particular",
   "metadata": {},
   "source": [
    "* DL基础\n",
    "* CNN - LeNet, AlexNet, VGG, Inception, ResNet\n",
    "* RNN - ENN, GRU, LSTM, Seq2Seq\n",
    "* Attention - Attention, Transformer\n",
    "* Optimization - SGD, Momentum, Adam\n",
    "* 高性能计算 - parallel, multiGPU, distributed\n",
    "* CV - 目标检测, 语义分割\n",
    "* NLP - 词嵌入, BERT"
   ]
  },
  {
   "cell_type": "markdown",
   "id": "completed-adolescent",
   "metadata": {},
   "source": [
    "### 02 Introduction of DL\n",
    "#### Model\n",
    "* 符号学-》概率模型-》机器学习\n",
    "* 自然语言处理：一般只停留在感知\n",
    "* 计算机视觉：能做到感知和推理\n",
    "* 深度学习：已经能做到知识和规划了\n",
    "#### 问题领域\n",
    "* 感知：了解是什么，感知到物体\n",
    "* 推理：基于看到的物体，推测未来\n",
    "* 知识：根据看到的数据形成知识\n",
    "* 规划：根据知识，长远规划\n",
    "#### 应用\n",
    "* 图片分类\n",
    "* 物体检测和分割\n",
    "* 样式迁移\n",
    "* 人脸合成\n",
    "* 文字生成图片\n",
    "* 文本生成\n",
    "* 无人驾驶\n",
    "* 广告点击\n",
    "#### 广告点击率\n",
    "特征提取：广告主，描述，图片 $\\rightarrow$ 设计模型 $\\rightarrow$ 预测点击率\n"
   ]
  },
  {
   "cell_type": "markdown",
   "id": "round-diversity",
   "metadata": {},
   "source": [
    "### 04 数据操作"
   ]
  },
  {
   "cell_type": "code",
   "execution_count": 9,
   "id": "nasty-multimedia",
   "metadata": {},
   "outputs": [],
   "source": [
    "import torch"
   ]
  },
  {
   "cell_type": "code",
   "execution_count": 10,
   "id": "signal-lyric",
   "metadata": {},
   "outputs": [
    {
     "data": {
      "text/plain": [
       "tensor([ 0,  1,  2,  3,  4,  5,  6,  7,  8,  9, 10, 11])"
      ]
     },
     "execution_count": 10,
     "metadata": {},
     "output_type": "execute_result"
    }
   ],
   "source": [
    "x = torch.arange(12)\n",
    "x"
   ]
  },
  {
   "cell_type": "code",
   "execution_count": 13,
   "id": "american-catholic",
   "metadata": {},
   "outputs": [
    {
     "name": "stdout",
     "output_type": "stream",
     "text": [
      "torch.Size([12]) 12\n",
      "tensor([[ 0,  1,  2,  3],\n",
      "        [ 4,  5,  6,  7],\n",
      "        [ 8,  9, 10, 11]])\n"
     ]
    }
   ],
   "source": [
    "# numel：元素的数量\n",
    "print(x.shape, x.numel())\n",
    "# reshape：改变形状\n",
    "print(x.reshape(3, 4))"
   ]
  },
  {
   "cell_type": "code",
   "execution_count": 15,
   "id": "vocal-essex",
   "metadata": {},
   "outputs": [
    {
     "data": {
      "text/plain": [
       "(tensor([[ 0.,  1.,  2.,  3.],\n",
       "         [ 4.,  5.,  6.,  7.],\n",
       "         [ 8.,  9., 10., 11.],\n",
       "         [ 2.,  3.,  4.,  1.],\n",
       "         [ 1.,  2.,  3.,  4.],\n",
       "         [ 4.,  3.,  2.,  1.]]),\n",
       " tensor([[ 0.,  1.,  2.,  3.,  2.,  3.,  4.,  1.],\n",
       "         [ 4.,  5.,  6.,  7.,  1.,  2.,  3.,  4.],\n",
       "         [ 8.,  9., 10., 11.,  4.,  3.,  2.,  1.]]))"
      ]
     },
     "execution_count": 15,
     "metadata": {},
     "output_type": "execute_result"
    }
   ],
   "source": [
    "# +,-,*,/,**是按照元素运算\n",
    "# 合并\n",
    "X = torch.arange(12, dtype=torch.float32).reshape((3, 4))\n",
    "Y = torch.tensor([[2, 3, 4, 1], [1, 2, 3, 4], [4, 3, 2, 1]])\n",
    "# dim = 0: 按照行堆叠，dim = 1: 按照列堆叠\n",
    "torch.cat((X, Y), dim=0), torch.cat((X, Y), dim=1)"
   ]
  },
  {
   "cell_type": "code",
   "execution_count": 16,
   "id": "saving-broadcasting",
   "metadata": {},
   "outputs": [
    {
     "data": {
      "text/plain": [
       "tensor([[False, False, False, False],\n",
       "        [False, False, False, False],\n",
       "        [False, False, False, False]])"
      ]
     },
     "execution_count": 16,
     "metadata": {},
     "output_type": "execute_result"
    }
   ],
   "source": [
    "# 也可以构建bool张量\n",
    "X == Y"
   ]
  },
  {
   "cell_type": "code",
   "execution_count": 17,
   "id": "lined-resort",
   "metadata": {},
   "outputs": [
    {
     "data": {
      "text/plain": [
       "(tensor([[0],\n",
       "         [1],\n",
       "         [2]]),\n",
       " tensor([[0, 1]]))"
      ]
     },
     "execution_count": 17,
     "metadata": {},
     "output_type": "execute_result"
    }
   ],
   "source": [
    "# 广播机制\n",
    "a = torch.arange(3).reshape(3, 1)\n",
    "b = torch.arange(2).reshape(1, 2)\n",
    "a, b"
   ]
  },
  {
   "cell_type": "code",
   "execution_count": 19,
   "id": "surgical-dispatch",
   "metadata": {},
   "outputs": [
    {
     "data": {
      "text/plain": [
       "tensor([[0, 1],\n",
       "        [1, 2],\n",
       "        [2, 3]])"
      ]
     },
     "execution_count": 19,
     "metadata": {},
     "output_type": "execute_result"
    }
   ],
   "source": [
    "# 将少的那一列复制一遍后相加\n",
    "a + b"
   ]
  },
  {
   "cell_type": "markdown",
   "id": "younger-survey",
   "metadata": {},
   "source": [
    "#### 数据预处理"
   ]
  },
  {
   "cell_type": "code",
   "execution_count": 30,
   "id": "romantic-coating",
   "metadata": {},
   "outputs": [],
   "source": [
    "import os\n",
    "os.makedirs(os.path.join('..', 'data'), exist_ok = True)\n",
    "data_file = os.path.join('..', 'data', 'house_tiny.csv')\n",
    "with open(data_file, 'w') as f:\n",
    "    f.write('NumRooms, Alley, Price\\n')\n",
    "    f.write('NA, Pave, 127500\\n')\n",
    "    f.write('2, NaN, 106000\\n')\n",
    "    f.write('4, NaN, 178100\\n')\n",
    "    f.write('NA, NaN, 140000\\n')"
   ]
  },
  {
   "cell_type": "code",
   "execution_count": 31,
   "id": "compatible-mountain",
   "metadata": {},
   "outputs": [
    {
     "name": "stdout",
     "output_type": "stream",
     "text": [
      "   NumRooms  Alley   Price\n",
      "0       NaN   Pave  127500\n",
      "1       2.0    NaN  106000\n",
      "2       4.0    NaN  178100\n",
      "3       NaN    NaN  140000\n"
     ]
    }
   ],
   "source": [
    "import pandas as pd\n",
    "data = pd.read_csv(data_file)\n",
    "print(data)"
   ]
  },
  {
   "cell_type": "code",
   "execution_count": 32,
   "id": "southeast-singles",
   "metadata": {},
   "outputs": [
    {
     "name": "stdout",
     "output_type": "stream",
     "text": [
      "   NumRooms  Alley\n",
      "0       3.0   Pave\n",
      "1       2.0    NaN\n",
      "2       4.0    NaN\n",
      "3       3.0    NaN\n"
     ]
    }
   ],
   "source": [
    "# 填补缺失值，数值用均值填充\n",
    "inputs, outputs = data.iloc[:, 0:2], data.iloc[:, 2]\n",
    "inputs = inputs.fillna(inputs.mean())\n",
    "print(inputs)"
   ]
  },
  {
   "cell_type": "code",
   "execution_count": 34,
   "id": "helpful-forestry",
   "metadata": {},
   "outputs": [
    {
     "name": "stdout",
     "output_type": "stream",
     "text": [
      "   NumRooms   Alley_ NaN   Alley_ Pave   Alley_nan\n",
      "0       3.0            0             1           0\n",
      "1       2.0            1             0           0\n",
      "2       4.0            1             0           0\n",
      "3       3.0            1             0           0\n"
     ]
    }
   ],
   "source": [
    "# 对于离散值或者字符串，变成一个类别\n",
    "inputs = pd.get_dummies(inputs, dummy_na = True)# dummy_na = True: NAN也是一个类别\n",
    "print(inputs)"
   ]
  },
  {
   "cell_type": "code",
   "execution_count": 36,
   "id": "parliamentary-acoustic",
   "metadata": {},
   "outputs": [
    {
     "data": {
      "text/plain": [
       "(tensor([[3., 0., 1., 0.],\n",
       "         [2., 1., 0., 0.],\n",
       "         [4., 1., 0., 0.],\n",
       "         [3., 1., 0., 0.]], dtype=torch.float64),\n",
       " tensor([127500, 106000, 178100, 140000]))"
      ]
     },
     "execution_count": 36,
     "metadata": {},
     "output_type": "execute_result"
    }
   ],
   "source": [
    "X, y = torch.tensor(inputs.values), torch.tensor(outputs.values)\n",
    "X, y"
   ]
  },
  {
   "cell_type": "markdown",
   "id": "returning-intention",
   "metadata": {},
   "source": [
    "### 07 自动求导\n",
    "* 正向求导\n",
    "* $\\frac{\\delta y}{\\delta x} = \\frac{\\delta y}{\\delta u_n}(\\frac{\\delta u_n}{\\delta u_{n-1}}(...(\\frac{\\delta u_2}{\\delta u_1} \\frac{\\delta u_1}{\\delta x})))$\n",
    "* O(n)计算一个变量的复杂度，计算两个就要两个O(n)，O(1)内存复杂度，不需要存储中间变量\n",
    "* 反向求导\n",
    "* $\\frac{\\delta y}{\\delta x} = (((\\frac{\\delta y}{\\delta u_n}\\frac{\\delta u_n}{\\delta u_{n-1}})...)\\frac{\\delta u_2}{\\delta u_1}) \\frac{\\delta u_1}{\\delta x}$\n",
    "* O(n)计算复杂度，O(n)内存复杂度，需要存储所有的中间结果\n"
   ]
  },
  {
   "cell_type": "code",
   "execution_count": 37,
   "id": "isolated-toilet",
   "metadata": {},
   "outputs": [
    {
     "data": {
      "text/plain": [
       "tensor([0., 1., 2., 3.])"
      ]
     },
     "execution_count": 37,
     "metadata": {},
     "output_type": "execute_result"
    }
   ],
   "source": [
    "x = torch.arange(4.0)\n",
    "x"
   ]
  },
  {
   "cell_type": "code",
   "execution_count": 40,
   "id": "recent-nutrition",
   "metadata": {},
   "outputs": [],
   "source": [
    "# 存储梯度\n",
    "x.requires_grad_(True) # 需要求导数\n",
    "x.grad"
   ]
  },
  {
   "cell_type": "code",
   "execution_count": 41,
   "id": "academic-driving",
   "metadata": {},
   "outputs": [
    {
     "data": {
      "text/plain": [
       "tensor(28., grad_fn=<MulBackward0>)"
      ]
     },
     "execution_count": 41,
     "metadata": {},
     "output_type": "execute_result"
    }
   ],
   "source": [
    "# 内积\n",
    "y = 2 * torch.dot(x, x)\n",
    "y"
   ]
  },
  {
   "cell_type": "code",
   "execution_count": 42,
   "id": "vulnerable-quest",
   "metadata": {},
   "outputs": [
    {
     "data": {
      "text/plain": [
       "tensor([ 0.,  4.,  8., 12.])"
      ]
     },
     "execution_count": 42,
     "metadata": {},
     "output_type": "execute_result"
    }
   ],
   "source": [
    "y.backward()\n",
    "x.grad"
   ]
  },
  {
   "cell_type": "code",
   "execution_count": 43,
   "id": "ultimate-surge",
   "metadata": {},
   "outputs": [
    {
     "data": {
      "text/plain": [
       "tensor([0., 0., 0., 0.])"
      ]
     },
     "execution_count": 43,
     "metadata": {},
     "output_type": "execute_result"
    }
   ],
   "source": [
    "# 默认情况下，torch会累计梯度，重启梯度计算前需要清除之前的值\n",
    "x.grad.zero_()"
   ]
  },
  {
   "cell_type": "code",
   "execution_count": 64,
   "id": "saving-howard",
   "metadata": {},
   "outputs": [
    {
     "data": {
      "text/plain": [
       "tensor(12.)"
      ]
     },
     "execution_count": 64,
     "metadata": {},
     "output_type": "execute_result"
    }
   ],
   "source": [
    "# 阻断，当不希望对一个变量求导时，用detach阻断\n",
    "x.grad.zero_()\n",
    "y.grad.zero_()\n",
    "x = torch.arange(4.0, requires_grad = True)\n",
    "y = torch.tensor(2.0, requires_grad = True)\n",
    "Y = y * 2\n",
    "c = x * Y\n",
    "Y.detach()\n",
    "c.sum().backward()\n",
    "y.grad"
   ]
  },
  {
   "cell_type": "markdown",
   "id": "sized-coffee",
   "metadata": {},
   "source": [
    "### 08 线性回归\n",
    "#### 放假预测\n"
   ]
  },
  {
   "cell_type": "code",
   "execution_count": null,
   "id": "usual-banana",
   "metadata": {},
   "outputs": [],
   "source": []
  }
 ],
 "metadata": {
  "kernelspec": {
   "display_name": "Python 3",
   "language": "python",
   "name": "python3"
  },
  "language_info": {
   "codemirror_mode": {
    "name": "ipython",
    "version": 3
   },
   "file_extension": ".py",
   "mimetype": "text/x-python",
   "name": "python",
   "nbconvert_exporter": "python",
   "pygments_lexer": "ipython3",
   "version": "3.7.0"
  }
 },
 "nbformat": 4,
 "nbformat_minor": 5
}
